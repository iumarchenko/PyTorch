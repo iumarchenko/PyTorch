{
 "cells": [
  {
   "cell_type": "code",
   "execution_count": 15,
   "metadata": {},
   "outputs": [],
   "source": [
    "import os\n",
    "import torchvision\n",
    "import torch.nn as nn\n",
    "import torch.nn.functional as F\n",
    "from torchvision.datasets import ImageFolder\n",
    "from torch.utils.data import DataLoader\n",
    "import torchvision.transforms as tt\n",
    "from torchvision.utils import make_grid\n",
    "import matplotlib.pyplot as plt\n",
    "%matplotlib inline\n",
    "import time\n",
    "from torch.autograd import Variable\n",
    "\n",
    "import cv2\n",
    "import torch\n",
    "import numpy as np\n",
    "from facenet_pytorch import MTCNN\n",
    "\n",
    "import matplotlib.pyplot as plt\n",
    "\n",
    "from PIL import Image\n",
    "\n",
    "import glob\n",
    "from sklearn.model_selection import train_test_split\n",
    "\n",
    "from torch.utils.data import Dataset, DataLoader\n",
    "from torch.optim.lr_scheduler import StepLR\n",
    "from torchvision import datasets, transforms\n",
    "\n",
    "import torch.optim as optim\n",
    "\n",
    "import pyautogui"
   ]
  },
  {
   "cell_type": "code",
   "execution_count": 16,
   "metadata": {},
   "outputs": [],
   "source": [
    "def print_face(img,detections):\n",
    "    img_with_dets = img.copy()\n",
    "\n",
    "    x, y, x1, y1 = detections[0][0]\n",
    "    keypoints =detections[1][0]\n",
    "    cv2.rectangle(img_with_dets, (x,y), (x1,y1), (0,155,255), 2)\n",
    "    \n",
    "    cv2.imshow('Face', img_with_dets)\n",
    "    cv2.waitKey(0)"
   ]
  },
  {
   "cell_type": "code",
   "execution_count": 17,
   "metadata": {},
   "outputs": [],
   "source": [
    "def digit_to_classname(digit):\n",
    "        if digit == 0:\n",
    "            print('привет!')\n",
    "            return 'palm' # ладонь\n",
    "        elif digit == 1:\n",
    "            image = pyautogui.screenshot(region=(0,0, 300, 400))\n",
    "            image = cv2.cvtColor(np.array(image), cv2.COLOR_RGB2BGR)\n",
    "            cv2.imshow('Screen', image)\n",
    "            cv2.waitKey(0)\n",
    "            return 'l'\n",
    "        elif digit == 2:\n",
    "            \n",
    "            return 'first'\n",
    "        elif digit == 3:\n",
    "            \n",
    "            return 'fist_moved'\n",
    "        elif digit == 4:\n",
    "            \n",
    "            return 'thumb'\n",
    "        elif digit == 5:\n",
    "            \n",
    "            return 'index'\n",
    "        elif digit == 6:\n",
    "            \n",
    "            return 'ok'\n",
    "        elif digit == 7:\n",
    "            print('У меня тоже все ок!')\n",
    "            return 'palm_moved'\n",
    "        elif digit == 8:\n",
    "            \n",
    "            return 'c'\n",
    "        elif digit == 9:\n",
    "            return 'down'"
   ]
  },
  {
   "cell_type": "code",
   "execution_count": 18,
   "metadata": {},
   "outputs": [],
   "source": [
    "class Net(nn.Module):\n",
    "    def __init__(self):\n",
    "        super(Net, self).__init__()\n",
    "        self.conv1 = nn.Conv2d(1, 32, 3, 1)\n",
    "        self.conv2 = nn.Conv2d(32, 32, 3, 1)\n",
    "        self.dropout1 = nn.Dropout2d(0.25)\n",
    "        self.dropout2 = nn.Dropout2d(0.5)\n",
    "        self.fc1 = nn.Linear(79680, 128)\n",
    "        self.fc2 = nn.Linear(128, 10)\n",
    "\n",
    "    def forward(self, x):\n",
    "        x = self.conv1(x)\n",
    "        x = F.relu(x)\n",
    "        x = self.conv2(x)\n",
    "        x = F.relu(x)\n",
    "        x = F.max_pool2d(x, 2)\n",
    "        x = self.dropout1(x)\n",
    "        x = torch.flatten(x, 1)\n",
    "        x = self.fc1(x)\n",
    "        x = F.relu(x)\n",
    "        x = self.dropout2(x)\n",
    "        x = self.fc2(x)\n",
    "        output = F.log_softmax(x, dim=1)\n",
    "        return output"
   ]
  },
  {
   "cell_type": "code",
   "execution_count": 19,
   "metadata": {},
   "outputs": [
    {
     "data": {
      "text/plain": [
       "<All keys matched successfully>"
      ]
     },
     "execution_count": 19,
     "metadata": {},
     "output_type": "execute_result"
    }
   ],
   "source": [
    "model = Net()\n",
    "model.load_state_dict(torch.load('./models/hand_detection_model_state_30_epoch.pth'))"
   ]
  },
  {
   "cell_type": "code",
   "execution_count": 22,
   "metadata": {
    "scrolled": true
   },
   "outputs": [
    {
     "name": "stdout",
     "output_type": "stream",
     "text": [
      "теперь покажите жест\n",
      "привет!\n",
      "Жест:  palm\n",
      "теперь покажите жест\n",
      "Жест:  l\n"
     ]
    }
   ],
   "source": [
    "vc = cv2.VideoCapture(0)\n",
    "\n",
    "plt.ion()\n",
    "detector = MTCNN()\n",
    "\n",
    "a = 0\n",
    "\n",
    "is_capturing = vc.isOpened()\n",
    "\n",
    "has_face = False\n",
    "\n",
    "if not is_capturing:\n",
    "    print(\"Error opening video\")\n",
    "\n",
    "\n",
    "while is_capturing:\n",
    "    try:\n",
    "        if not has_face:\n",
    "            is_capturing, frame = vc.read()\n",
    "            frame = cv2.cvtColor(frame, cv2.COLOR_BGR2RGB)    \n",
    "            \n",
    "            detections = detector.detect(frame)\n",
    "            print_face(frame, detections)\n",
    "            has_face = True\n",
    "        else:\n",
    "            print(\"теперь покажите жест\")\n",
    "            plt.pause(5)\n",
    "            is_capturing, frame = vc.read()\n",
    "            frame = cv2.cvtColor(frame, cv2.COLOR_RGB2GRAY)\n",
    "            frame = frame/255\n",
    "            \n",
    "            img = cv2.resize(frame,(170,64))\n",
    "            torch_img = torch.from_numpy(img).unsqueeze(0).float()\n",
    " \n",
    "            cv2.imshow('Gesture', frame)\n",
    "            cv2.waitKey(0)            \n",
    "    \n",
    "            res = model(torch_img[None, ...])\n",
    "            res = digit_to_classname(res.argmax())\n",
    "            print('Жест: ', res)\n",
    "\n",
    "        a += 1\n",
    "        if a == 3:\n",
    "            break\n",
    "\n",
    "        try:    \n",
    "            plt.pause(1)\n",
    "        except Exception:\n",
    "            pass\n",
    "    except KeyboardInterrupt:\n",
    "        vc.release()\n",
    "        \n",
    "    if cv2.waitKey(1) & 0xFF == ord('q'):\n",
    "        break"
   ]
  },
  {
   "cell_type": "code",
   "execution_count": null,
   "metadata": {},
   "outputs": [],
   "source": []
  },
  {
   "cell_type": "code",
   "execution_count": 63,
   "metadata": {},
   "outputs": [],
   "source": []
  },
  {
   "cell_type": "code",
   "execution_count": null,
   "metadata": {},
   "outputs": [],
   "source": []
  }
 ],
 "metadata": {
  "kernelspec": {
   "display_name": "Python 3",
   "language": "python",
   "name": "python3"
  },
  "language_info": {
   "codemirror_mode": {
    "name": "ipython",
    "version": 3
   },
   "file_extension": ".py",
   "mimetype": "text/x-python",
   "name": "python",
   "nbconvert_exporter": "python",
   "pygments_lexer": "ipython3",
   "version": "3.7.6"
  }
 },
 "nbformat": 4,
 "nbformat_minor": 4
}
